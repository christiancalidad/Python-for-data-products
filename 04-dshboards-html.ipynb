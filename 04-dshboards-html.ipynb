{
 "cells": [
  {
   "cell_type": "markdown",
   "metadata": {},
   "source": [
    "Dashboards usando HTML\n",
    "===\n",
    "\n",
    "**Juan David Velásquez Henao**  \n",
    "jdvelasq@unal.edu.co   \n",
    "Universidad Nacional de Colombia, Sede Medellín  \n",
    "Facultad de Minas  \n",
    "Medellín, Colombia\n",
    "\n",
    "---\n",
    "\n",
    "Haga click [aquí](https://github.com/jdvelasq/Python-for-data-products/tree/master/) para acceder al repositorio online.\n",
    "\n",
    "Haga click [aquí](http://nbviewer.jupyter.org/github/jdvelasq/Python-for-data-products/tree/master/) para explorar el repositorio usando `nbviewer`. "
   ]
  },
  {
   "cell_type": "markdown",
   "metadata": {},
   "source": [
    "---"
   ]
  },
  {
   "cell_type": "markdown",
   "metadata": {},
   "source": [
    "Estos ejemplos son adaptados de [w3schools](https://www.w3schools.com/howto/default.asp)."
   ]
  },
  {
   "cell_type": "markdown",
   "metadata": {},
   "source": [
    "---"
   ]
  },
  {
   "cell_type": "markdown",
   "metadata": {},
   "source": [
    "**Preparación.--** El siguiente código genera las gráficas usadas en los demás ejemplos."
   ]
  },
  {
   "cell_type": "code",
   "execution_count": 1,
   "metadata": {},
   "outputs": [],
   "source": [
    "!rm -R examples-04-dashboards\n",
    "!mkdir examples-04-dashboards"
   ]
  },
  {
   "cell_type": "code",
   "execution_count": 2,
   "metadata": {},
   "outputs": [],
   "source": [
    "import numpy as np\n",
    "import matplotlib.pyplot as plt\n",
    "\n",
    "x = np.linspace(0, 2*3.1416, 50, endpoint=True)\n",
    "y1 = np.sin(x)\n",
    "y2 = np.cos(x)\n",
    "\n",
    "plt.plot(x, y1, color ='blue');\n",
    "plt.xlabel('x');\n",
    "plt.ylabel('Sin(x)');\n",
    "plt.savefig('examples-04-dashboards/sin.png')\n",
    "plt.savefig('examples-04-dashboards/sin.pdf')\n",
    "\n",
    "plt.clf();\n",
    "plt.plot(x, y2, color = 'red');\n",
    "plt.xlabel('x');\n",
    "plt.ylabel('Cos(x)');\n",
    "plt.savefig('examples-04-dashboards/cos.png');\n",
    "plt.close()"
   ]
  },
  {
   "cell_type": "markdown",
   "metadata": {},
   "source": [
    "**Ejemplo 1.--** Página web mínima para visualizar las gráficas."
   ]
  },
  {
   "cell_type": "code",
   "execution_count": 3,
   "metadata": {
    "scrolled": true
   },
   "outputs": [
    {
     "name": "stdout",
     "output_type": "stream",
     "text": [
      "Writing examples-04-dashboards/dashboard1.html\n"
     ]
    }
   ],
   "source": [
    "%%writefile examples-04-dashboards/dashboard1.html\n",
    "<!DOCTYPE html>\n",
    "<html>\n",
    "<head>\n",
    "<title>Mi primer dashboard</title>\n",
    "</head>\n",
    "<body>\n",
    "\n",
    "<h1>Este es mi primer dashboard en html</h1>\n",
    "<p>Este es un parrafo.</p>\n",
    "\n",
    "<p>Grafica de Sin(x).</p>\n",
    "<img src=\"sin.png\" alt=\"Sin(x)\">\n",
    "\n",
    "<p>Grafica de Cos(x).</p>\n",
    "<img src=\"cos.png\" alt=\"Sin(x)\">\n",
    "\n",
    "</body>\n",
    "</html>"
   ]
  },
  {
   "cell_type": "markdown",
   "metadata": {},
   "source": [
    "**Ejemplo 2.--** Texto dinámico."
   ]
  },
  {
   "cell_type": "code",
   "execution_count": 4,
   "metadata": {},
   "outputs": [],
   "source": [
    "from jinja2 import Template\n",
    "\n",
    "texto = \"\"\"\n",
    "<!DOCTYPE html>\n",
    "<html>\n",
    "<head>\n",
    "<title>Mi primer dashboard</title>\n",
    "</head>\n",
    "<body>\n",
    "\n",
    "<h1>Este es mi primer dashboard en html</h1>\n",
    "<p>Este es un parrafo.</p>\n",
    "\n",
    "<p>Este es el valor de la variable myvar = {{ myvar }}</p>\n",
    "\n",
    "<p>Grafica de Sin(x).</p>\n",
    "<img src=\"sin.png\" alt=\"Sin(x)\">\n",
    "\n",
    "<p>Grafica de Cos(x).</p>\n",
    "<img src=\"cos.png\" alt=\"Sin(x)\">\n",
    "\n",
    "</body>\n",
    "</html>\n",
    "\"\"\"\n",
    "\n",
    "template = Template(texto)\n",
    "\n",
    "file = open(\"examples-04-dashboards/dashboard2.html\",\"w\") \n",
    "file.write( template.render(myvar = 123456789))\n",
    "file.close()\n"
   ]
  },
  {
   "cell_type": "markdown",
   "metadata": {},
   "source": [
    "**Ejemplo 3.--** Formato de secciones tipo acordeón."
   ]
  },
  {
   "cell_type": "code",
   "execution_count": 5,
   "metadata": {},
   "outputs": [
    {
     "name": "stdout",
     "output_type": "stream",
     "text": [
      "Writing examples-04-dashboards/dashboard3.html\n"
     ]
    }
   ],
   "source": [
    "%%writefile examples-04-dashboards/dashboard3.html\n",
    "<!DOCTYPE html>\n",
    "<html>\n",
    "<head>\n",
    "<meta name=\"viewport\" content=\"width=device-width, initial-scale=1\">\n",
    "<style>\n",
    ".accordion {\n",
    "    background-color: #eee;\n",
    "    color: #444;\n",
    "    cursor: pointer;\n",
    "    padding: 18px;\n",
    "    width: 100%;\n",
    "    border: none;\n",
    "    text-align: left;\n",
    "    outline: none;\n",
    "    font-size: 15px;\n",
    "    transition: 0.4s;\n",
    "}\n",
    "\n",
    ".active, .accordion:hover {\n",
    "    background-color: #ccc; \n",
    "}\n",
    "\n",
    ".panel {\n",
    "    padding: 0 18px;\n",
    "    display: none;\n",
    "    background-color: white;\n",
    "    overflow: hidden;\n",
    "}\n",
    "</style>\n",
    "</head>\n",
    "<body>\n",
    "\n",
    "<center>\n",
    "  <h1>Titulo del Dashboard</h1>\n",
    "</center>\n",
    "    \n",
    "<button class=\"accordion\">Grafica 1</button>\n",
    "<div class=\"panel\">\n",
    "  <p>Grafica de Sin(x).</p>\n",
    "  <img src=\"sin.png\" alt=\"Sin(x)\">\n",
    "</div>\n",
    "\n",
    "<button class=\"accordion\">Grafica 2</button>\n",
    "<div class=\"panel\">\n",
    "  <p>Grafica de Cos(x).</p>\n",
    "  <img src=\"cos.png\" alt=\"Sin(x)\">\n",
    "</div>\n",
    "\n",
    "<script>\n",
    "var acc = document.getElementsByClassName(\"accordion\");\n",
    "var i;\n",
    "\n",
    "for (i = 0; i < acc.length; i++) {\n",
    "    acc[i].addEventListener(\"click\", function() {\n",
    "        this.classList.toggle(\"active\");\n",
    "        var panel = this.nextElementSibling;\n",
    "        if (panel.style.display === \"block\") {\n",
    "            panel.style.display = \"none\";\n",
    "        } else {\n",
    "            panel.style.display = \"block\";\n",
    "        }\n",
    "    });\n",
    "}\n",
    "</script>\n",
    "\n",
    "</body>\n",
    "</html>"
   ]
  },
  {
   "cell_type": "markdown",
   "metadata": {},
   "source": [
    "**Ejemplo 4.--** Tabs horizontales."
   ]
  },
  {
   "cell_type": "code",
   "execution_count": 6,
   "metadata": {},
   "outputs": [
    {
     "name": "stdout",
     "output_type": "stream",
     "text": [
      "Writing examples-04-dashboards/dashboard4.html\n"
     ]
    }
   ],
   "source": [
    "%%writefile examples-04-dashboards/dashboard4.html\n",
    "<!DOCTYPE html>\n",
    "<html>\n",
    "<head>\n",
    "<meta name=\"viewport\" content=\"width=device-width, initial-scale=1\">\n",
    "<style>\n",
    "body {font-family: Arial;}\n",
    "\n",
    "/* Style the tab */\n",
    ".tab {\n",
    "    overflow: hidden;\n",
    "    border: 1px solid #ccc;\n",
    "    background-color: #f1f1f1;\n",
    "}\n",
    "\n",
    "/* Style the buttons inside the tab */\n",
    ".tab button {\n",
    "    background-color: inherit;\n",
    "    float: left;\n",
    "    border: none;\n",
    "    outline: none;\n",
    "    cursor: pointer;\n",
    "    padding: 14px 16px;\n",
    "    transition: 0.3s;\n",
    "    font-size: 17px;\n",
    "}\n",
    "\n",
    "/* Change background color of buttons on hover */\n",
    ".tab button:hover {\n",
    "    background-color: #ddd;\n",
    "}\n",
    "\n",
    "/* Create an active/current tablink class */\n",
    ".tab button.active {\n",
    "    background-color: #ccc;\n",
    "}\n",
    "\n",
    "/* Style the tab content */\n",
    ".tabcontent {\n",
    "    display: none;\n",
    "    padding: 6px 12px;\n",
    "    border: 1px solid #ccc;\n",
    "    border-top: none;\n",
    "}\n",
    "</style>\n",
    "</head>\n",
    "<body>\n",
    "\n",
    "<p>Haga clic en una de las pestanas:</p>\n",
    "\n",
    "<div class=\"tab\">\n",
    "  <button class=\"tablinks\" onclick=\"openTab(event, 'Grafica1')\">Grafica 1</button>\n",
    "  <button class=\"tablinks\" onclick=\"openTab(event, 'Grafica2')\">Grafica 2</button>\n",
    "</div>\n",
    "\n",
    "<div id=\"Grafica1\" class=\"tabcontent\">\n",
    "  <p>Grafica de Sin(x).</p>\n",
    "  <img src=\"sin.png\" alt=\"Sin(x)\">\n",
    "</div>\n",
    "\n",
    "<div id=\"Grafica2\" class=\"tabcontent\">\n",
    "  <p>Grafica de Cos(x).</p>\n",
    "  <img src=\"cos.png\" alt=\"Cos(x)\">\n",
    "</div>\n",
    "\n",
    "<script>\n",
    "function openTab(evt, tabName) {\n",
    "    var i, tabcontent, tablinks;\n",
    "    tabcontent = document.getElementsByClassName(\"tabcontent\");\n",
    "    for (i = 0; i < tabcontent.length; i++) {\n",
    "        tabcontent[i].style.display = \"none\";\n",
    "    }\n",
    "    tablinks = document.getElementsByClassName(\"tablinks\");\n",
    "    for (i = 0; i < tablinks.length; i++) {\n",
    "        tablinks[i].className = tablinks[i].className.replace(\" active\", \"\");\n",
    "    }\n",
    "    document.getElementById(tabName).style.display = \"block\";\n",
    "    evt.currentTarget.className += \" active\";\n",
    "}\n",
    "</script>\n",
    "     \n",
    "</body>\n",
    "</html> \n",
    "\n"
   ]
  },
  {
   "cell_type": "markdown",
   "metadata": {},
   "source": [
    "**Ejemplo 5.--** Tabs verticales."
   ]
  },
  {
   "cell_type": "code",
   "execution_count": 7,
   "metadata": {
    "scrolled": true
   },
   "outputs": [
    {
     "name": "stdout",
     "output_type": "stream",
     "text": [
      "Writing examples-04-dashboards/dashboard5.html\n"
     ]
    }
   ],
   "source": [
    "%%writefile examples-04-dashboards/dashboard5.html\n",
    "<!DOCTYPE html>\n",
    "<html>\n",
    "<head>\n",
    "<meta name=\"viewport\" content=\"width=device-width, initial-scale=1\">\n",
    "<style>\n",
    "* {box-sizing: border-box}\n",
    "body {font-family: \"Lato\", sans-serif;}\n",
    "\n",
    "/* Style the tab */\n",
    ".tab {\n",
    "    float: left;\n",
    "    border: 1px solid #ccc;\n",
    "    background-color: #f1f1f1;\n",
    "    width: 30%;\n",
    "    height: 300px;\n",
    "}\n",
    "\n",
    "/* Style the buttons inside the tab */\n",
    ".tab button {\n",
    "    display: block;\n",
    "    background-color: inherit;\n",
    "    color: black;\n",
    "    padding: 22px 16px;\n",
    "    width: 100%;\n",
    "    border: none;\n",
    "    outline: none;\n",
    "    text-align: left;\n",
    "    cursor: pointer;\n",
    "    transition: 0.3s;\n",
    "    font-size: 17px;\n",
    "}\n",
    "\n",
    "/* Change background color of buttons on hover */\n",
    ".tab button:hover {\n",
    "    background-color: #ddd;\n",
    "}\n",
    "\n",
    "/* Create an active/current \"tab button\" class */\n",
    ".tab button.active {\n",
    "    background-color: #ccc;\n",
    "}\n",
    "\n",
    "/* Style the tab content */\n",
    ".tabcontent {\n",
    "    float: left;\n",
    "    padding: 0px 12px;\n",
    "    border: 1px solid #ccc;\n",
    "    width: 70%;\n",
    "    border-left: none;\n",
    "    height: 300px;\n",
    "}\n",
    "</style>\n",
    "</head>\n",
    "<body>\n",
    "\n",
    "<p>Haga click en el menu de abajo:</p>\n",
    "\n",
    "<div class=\"tab\">\n",
    "  <button class=\"tablinks\" onclick=\"openTab(event, 'Grafica1')\" id=\"defaultOpen\">Grafica 1</button>\n",
    "  <button class=\"tablinks\" onclick=\"openTab(event, 'Grafica2')\">Grafica 2</button>\n",
    "</div>\n",
    "\n",
    "<div id=\"Grafica1\" class=\"tabcontent\">\n",
    "  <p>Grafica de Sin(x).</p>\n",
    "  <img src=\"sin.png\" alt=\"Sin(x)\">\n",
    "</div>\n",
    "\n",
    "<div id=\"Grafica2\" class=\"tabcontent\">\n",
    "  <p>Grafica de Cos(x).</p>\n",
    "  <img src=\"cos.png\" alt=\"Cos(x)\">\n",
    "</div>\n",
    "\n",
    "\n",
    "<script>\n",
    "function openTab(evt, tabName) {\n",
    "    var i, tabcontent, tablinks;\n",
    "    tabcontent = document.getElementsByClassName(\"tabcontent\");\n",
    "    for (i = 0; i < tabcontent.length; i++) {\n",
    "        tabcontent[i].style.display = \"none\";\n",
    "    }\n",
    "    tablinks = document.getElementsByClassName(\"tablinks\");\n",
    "    for (i = 0; i < tablinks.length; i++) {\n",
    "        tablinks[i].className = tablinks[i].className.replace(\" active\", \"\");\n",
    "    }\n",
    "    document.getElementById(tabName).style.display = \"block\";\n",
    "    evt.currentTarget.className += \" active\";\n",
    "}\n",
    "\n",
    "// Get the element with id=\"defaultOpen\" and click on it\n",
    "document.getElementById(\"defaultOpen\").click();\n",
    "</script>\n",
    "     \n",
    "</body>\n",
    "</html> \n",
    "\n"
   ]
  },
  {
   "cell_type": "markdown",
   "metadata": {},
   "source": [
    "**Ejemplo 6.--** Tabs encabezamiento."
   ]
  },
  {
   "cell_type": "code",
   "execution_count": 8,
   "metadata": {},
   "outputs": [
    {
     "name": "stdout",
     "output_type": "stream",
     "text": [
      "Writing examples-04-dashboards/dashboard6.html\n"
     ]
    }
   ],
   "source": [
    "%%writefile examples-04-dashboards/dashboard6.html\n",
    "<!DOCTYPE html>\n",
    "<html>\n",
    "<head>\n",
    "<meta name=\"viewport\" content=\"width=device-width, initial-scale=1\">\n",
    "<style>\n",
    "body {font-family: \"Lato\", sans-serif;}\n",
    "\n",
    ".tablink {\n",
    "    background-color: #555;\n",
    "    color: white;\n",
    "    float: left;\n",
    "    border: none;\n",
    "    outline: none;\n",
    "    cursor: pointer;\n",
    "    padding: 14px 16px;\n",
    "    font-size: 17px;\n",
    "    width: 25%;\n",
    "}\n",
    "\n",
    ".tablink:hover {\n",
    "    background-color: #777;\n",
    "}\n",
    "\n",
    "/* Style the tab content */\n",
    ".tabcontent {\n",
    "    color: white;\n",
    "    display: none;\n",
    "    padding: 90px;\n",
    "    text-align: left;\n",
    "}\n",
    "\n",
    "</style>\n",
    "</head>\n",
    "<body>\n",
    "\n",
    "<p>Haga click en el menu:</p>\n",
    "\n",
    "<div id=\"Grafica1\" class=\"tabcontent\">\n",
    "  <p>Grafica de Sin(x).</p>\n",
    "  <img src=\"sin.png\" alt=\"Sin(x)\">\n",
    "</div>\n",
    "\n",
    "<div id=\"Grafica2\" class=\"tabcontent\">\n",
    "  <p>Grafica de Cos(x).</p>\n",
    "  <img src=\"cos.png\" alt=\"Cos(x)\">\n",
    "</div>\n",
    "\n",
    "<button class=\"tablink\" onclick=\"openTab('Grafica1', this, 'red')\" id=\"defaultOpen\">Grafica 1</button>\n",
    "<button class=\"tablink\" onclick=\"openTab('Grafica2', this, 'green')\">Grafica 2</button>\n",
    "\n",
    "\n",
    "<script>\n",
    "function openTab(tabName,elmnt,color) {\n",
    "    var i, tabcontent, tablinks;\n",
    "    tabcontent = document.getElementsByClassName(\"tabcontent\");\n",
    "    for (i = 0; i < tabcontent.length; i++) {\n",
    "        tabcontent[i].style.display = \"none\";\n",
    "    }\n",
    "    tablinks = document.getElementsByClassName(\"tablink\");\n",
    "    for (i = 0; i < tablinks.length; i++) {\n",
    "        tablinks[i].style.backgroundColor = \"\";\n",
    "    }\n",
    "    document.getElementById(tabName).style.display = \"block\";\n",
    "    elmnt.style.backgroundColor = color;\n",
    "\n",
    "}\n",
    "document.getElementById(\"defaultOpen\").click();\n",
    "</script>\n",
    "     \n",
    "</body>\n",
    "</html> "
   ]
  },
  {
   "cell_type": "markdown",
   "metadata": {},
   "source": [
    "**Ejemplo 7.--** Malla de imagenes."
   ]
  },
  {
   "cell_type": "code",
   "execution_count": 9,
   "metadata": {},
   "outputs": [
    {
     "name": "stdout",
     "output_type": "stream",
     "text": [
      "Writing examples-04-dashboards/dashboard7.html\n"
     ]
    }
   ],
   "source": [
    "%%writefile examples-04-dashboards/dashboard7.html\n",
    "<!DOCTYPE html>\n",
    "<html>\n",
    "<style>\n",
    "* {\n",
    "    box-sizing: border-box;\n",
    "}\n",
    "\n",
    "body {\n",
    "    margin: 0;\n",
    "    font-family: Arial;\n",
    "}\n",
    "\n",
    ".header {\n",
    "    text-align: center;\n",
    "    padding: 32px;\n",
    "}\n",
    "\n",
    "/* Create two equal columns that floats next to each other */\n",
    ".column {\n",
    "    float: left;\n",
    "    width: 50%;\n",
    "    padding: 10px;\n",
    "}\n",
    "\n",
    ".column img {\n",
    "    margin-top: 12px;\n",
    "}\n",
    "\n",
    "/* Clear floats after the columns */\n",
    ".row:after {\n",
    "    content: \"\";\n",
    "    display: table;\n",
    "    clear: both;\n",
    "}\n",
    "</style>\n",
    "<body>\n",
    "\n",
    "<!-- Header -->\n",
    "<div class=\"header\">\n",
    "  <h1>Malla</h1>\n",
    "</div>\n",
    "\n",
    "<!-- Photo Grid -->\n",
    "<div class=\"row\"> \n",
    "  <div class=\"column\">\n",
    "    <p>Grafica de Sin(x).</p>\n",
    "    <img src=\"sin.png\" alt=\"Sin(x)\">\n",
    "  </div>\n",
    "  <div class=\"column\">\n",
    "    <p>Grafica de Cos(x).</p>\n",
    "    <img src=\"cos.png\" alt=\"Cos(x)\">\n",
    "  </div>  \n",
    "</div>\n",
    "\n",
    "</body>\n",
    "</html>\n",
    "\n"
   ]
  },
  {
   "cell_type": "markdown",
   "metadata": {},
   "source": [
    "---"
   ]
  },
  {
   "cell_type": "markdown",
   "metadata": {},
   "source": [
    "**Ejercicio.--** De la página medata.gov.co, seleccione una de las historias de datos y construya un dashboard similar usando HTML."
   ]
  },
  {
   "cell_type": "markdown",
   "metadata": {},
   "source": [
    "---"
   ]
  },
  {
   "cell_type": "markdown",
   "metadata": {},
   "source": [
    "Dashboards usando HTML\n",
    "===\n",
    "\n",
    "**Juan David Velásquez Henao**  \n",
    "jdvelasq@unal.edu.co   \n",
    "Universidad Nacional de Colombia, Sede Medellín  \n",
    "Facultad de Minas  \n",
    "Medellín, Colombia\n",
    "\n",
    "---\n",
    "\n",
    "Haga click [aquí](https://github.com/jdvelasq/Python-for-data-products/tree/master/) para acceder al repositorio online.\n",
    "\n",
    "Haga click [aquí](http://nbviewer.jupyter.org/github/jdvelasq/Python-for-data-products/tree/master/) para explorar el repositorio usando `nbviewer`. "
   ]
  }
 ],
 "metadata": {
  "kernel_info": {
   "name": "python3"
  },
  "kernelspec": {
   "display_name": "Python 3",
   "language": "python",
   "name": "python3"
  },
  "language_info": {
   "codemirror_mode": {
    "name": "ipython",
    "version": 3
   },
   "file_extension": ".py",
   "mimetype": "text/x-python",
   "name": "python",
   "nbconvert_exporter": "python",
   "pygments_lexer": "ipython3",
   "version": "3.6.4"
  },
  "nteract": {
   "version": "0.7.1"
  }
 },
 "nbformat": 4,
 "nbformat_minor": 1
}

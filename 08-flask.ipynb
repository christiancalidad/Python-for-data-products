{
 "cells": [
  {
   "cell_type": "markdown",
   "metadata": {},
   "source": [
    "Dashboards usando Flask\n",
    "===\n",
    "\n",
    "**Juan David Velásquez Henao**  \n",
    "jdvelasq@unal.edu.co   \n",
    "Universidad Nacional de Colombia, Sede Medellín  \n",
    "Facultad de Minas  \n",
    "Medellín, Colombia\n",
    "\n",
    "---\n",
    "\n",
    "Haga click [aquí](https://github.com/jdvelasq/Python-for-data-products/tree/master/) para acceder al repositorio online.\n",
    "\n",
    "Haga click [aquí](http://nbviewer.jupyter.org/github/jdvelasq/Python-for-data-products/tree/master/) para explorar el repositorio usando `nbviewer`. "
   ]
  },
  {
   "cell_type": "markdown",
   "metadata": {},
   "source": [
    "---"
   ]
  },
  {
   "cell_type": "markdown",
   "metadata": {},
   "source": [
    "# myApp-01"
   ]
  },
  {
   "cell_type": "markdown",
   "metadata": {},
   "source": [
    "**Paso 1.--** Se crea la estructura de directorios. "
   ]
  },
  {
   "cell_type": "code",
   "execution_count": 1,
   "metadata": {},
   "outputs": [
    {
     "name": "stderr",
     "output_type": "stream",
     "text": [
      "rm: myApp-01: No such file or directory\n"
     ]
    }
   ],
   "source": [
    "%%bash\n",
    "rm -R myApp-01\n",
    "mkdir myApp-01"
   ]
  },
  {
   "cell_type": "markdown",
   "metadata": {},
   "source": [
    "**Paso 2.--** Crea el archivo principal. "
   ]
  },
  {
   "cell_type": "code",
   "execution_count": 2,
   "metadata": {
    "scrolled": true
   },
   "outputs": [
    {
     "name": "stdout",
     "output_type": "stream",
     "text": [
      "Writing myApp-01/main.py\n"
     ]
    }
   ],
   "source": [
    "%%writefile myApp-01/main.py\n",
    "\n",
    "# coding:utf-8\n",
    "from flask import Flask\n",
    "app = Flask(__name__)\n",
    "\n",
    "@app.route('/')\n",
    "@app.route('/index')\n",
    "def hello():\n",
    "    return \"Hola Mundo Cruel!\"\n",
    "\n",
    "if __name__ == \"__main__\":\n",
    "    app.run()"
   ]
  },
  {
   "cell_type": "markdown",
   "metadata": {},
   "source": [
    "**Paso 3.--** Se ejecuta (por fuera de jupyter!). "
   ]
  },
  {
   "cell_type": "code",
   "execution_count": 3,
   "metadata": {},
   "outputs": [],
   "source": [
    "# ejecutar por fuera de jupyter\n",
    "# python myApp-01/main.py"
   ]
  },
  {
   "cell_type": "markdown",
   "metadata": {},
   "source": [
    "# myApp-2"
   ]
  },
  {
   "cell_type": "markdown",
   "metadata": {},
   "source": [
    "Se retorna texto con formato HTML."
   ]
  },
  {
   "cell_type": "markdown",
   "metadata": {},
   "source": [
    "**Paso 1.--** Se crea la estructura de directorios. "
   ]
  },
  {
   "cell_type": "code",
   "execution_count": 4,
   "metadata": {},
   "outputs": [
    {
     "name": "stderr",
     "output_type": "stream",
     "text": [
      "rm: myApp-02: No such file or directory\n"
     ]
    }
   ],
   "source": [
    "%%bash\n",
    "rm -R myApp-02\n",
    "mkdir myApp-02"
   ]
  },
  {
   "cell_type": "markdown",
   "metadata": {},
   "source": [
    "**Paso 2.--** Crea el archivo principal. "
   ]
  },
  {
   "cell_type": "code",
   "execution_count": 5,
   "metadata": {
    "scrolled": true
   },
   "outputs": [
    {
     "name": "stdout",
     "output_type": "stream",
     "text": [
      "Writing myApp-02/main.py\n"
     ]
    }
   ],
   "source": [
    "%%writefile myApp-02/main.py\n",
    "\n",
    "# coding:utf-8\n",
    "from flask import Flask\n",
    "app = Flask(__name__)\n",
    "\n",
    "@app.route('/')\n",
    "@app.route('/index')\n",
    "def hello():\n",
    "    return \"<h1>Hola Mundo Cruel!</h1>\"\n",
    "\n",
    "if __name__ == \"__main__\":\n",
    "    app.run()"
   ]
  },
  {
   "cell_type": "markdown",
   "metadata": {},
   "source": [
    "**Paso 3.--** Se ejecuta (por fuera de jupyter!). "
   ]
  },
  {
   "cell_type": "markdown",
   "metadata": {},
   "source": [
    "# myApp-03"
   ]
  },
  {
   "cell_type": "markdown",
   "metadata": {},
   "source": [
    "**Paso 1.--** Se crea la estructura de directorios. "
   ]
  },
  {
   "cell_type": "code",
   "execution_count": 6,
   "metadata": {
    "scrolled": true
   },
   "outputs": [
    {
     "name": "stderr",
     "output_type": "stream",
     "text": [
      "rm: myApp-03: No such file or directory\n"
     ]
    }
   ],
   "source": [
    "%%bash\n",
    "rm -R myApp-03\n",
    "mkdir myApp-03\n",
    "mkdir myApp-03/templates"
   ]
  },
  {
   "cell_type": "markdown",
   "metadata": {},
   "source": [
    "**Paso 2.--** Crea el archivo principal. "
   ]
  },
  {
   "cell_type": "code",
   "execution_count": 7,
   "metadata": {
    "scrolled": true
   },
   "outputs": [
    {
     "name": "stdout",
     "output_type": "stream",
     "text": [
      "Writing myApp-03/main.py\n"
     ]
    }
   ],
   "source": [
    "%%writefile myApp-03/main.py\n",
    "\n",
    "# coding:utf-8\n",
    "from flask import Flask, render_template\n",
    "app = Flask(__name__)\n",
    "\n",
    "@app.route('/')\n",
    "@app.route('/index')\n",
    "def hello():\n",
    "    return render_template('index.html')\n",
    "\n",
    "if __name__ == \"__main__\":\n",
    "    app.run()"
   ]
  },
  {
   "cell_type": "markdown",
   "metadata": {},
   "source": [
    "**Paso 3.--** Crea la página `index.html`. "
   ]
  },
  {
   "cell_type": "code",
   "execution_count": 8,
   "metadata": {},
   "outputs": [
    {
     "name": "stdout",
     "output_type": "stream",
     "text": [
      "Writing myApp-03/templates/index.html\n"
     ]
    }
   ],
   "source": [
    "%%writefile myApp-03/templates/index.html\n",
    "\n",
    "<html>\n",
    "   <head><title>Hola Mundo Cruel!</title></head>\n",
    "   <body> === Hola Mundo Cruel! === </body>\n",
    "</html>"
   ]
  },
  {
   "cell_type": "markdown",
   "metadata": {},
   "source": [
    "**Paso 4.--** Se ejecuta (por fuera de jupyter!). "
   ]
  },
  {
   "cell_type": "markdown",
   "metadata": {},
   "source": [
    "# myApp-04"
   ]
  },
  {
   "cell_type": "markdown",
   "metadata": {},
   "source": [
    "**Paso 1.--** Se crea la estructura de directorios. "
   ]
  },
  {
   "cell_type": "code",
   "execution_count": 9,
   "metadata": {
    "scrolled": false
   },
   "outputs": [
    {
     "name": "stderr",
     "output_type": "stream",
     "text": [
      "rm: myApp-04: No such file or directory\n"
     ]
    }
   ],
   "source": [
    "%%bash\n",
    "rm -R myApp-04\n",
    "mkdir myApp-04\n",
    "mkdir myApp-04/templates\n",
    "mkdir myApp-04/static"
   ]
  },
  {
   "cell_type": "markdown",
   "metadata": {},
   "source": [
    "**Paso 2.--** Crea el archivo principal. "
   ]
  },
  {
   "cell_type": "code",
   "execution_count": 10,
   "metadata": {},
   "outputs": [
    {
     "name": "stdout",
     "output_type": "stream",
     "text": [
      "Writing myApp-04/main.py\n"
     ]
    }
   ],
   "source": [
    "%%writefile myApp-04/main.py\n",
    "\n",
    "# coding:utf-8\n",
    "\n",
    "import numpy as np\n",
    "import matplotlib.pyplot as plt\n",
    "\n",
    "from flask import Flask, render_template\n",
    "app = Flask(__name__)\n",
    "\n",
    "@app.route('/')\n",
    "@app.route('/index')\n",
    "def myprog():\n",
    "    \n",
    "    ## hace los computos requeridos\n",
    "    x = np.linspace(0, 2*3.1416, 50, endpoint=True)\n",
    "    y1 = np.sin(x)\n",
    "    y2 = np.cos(x)\n",
    "\n",
    "    plt.plot(x, y1, color ='blue');\n",
    "    plt.xlabel('x');\n",
    "    plt.ylabel('Sin(x)');\n",
    "    plt.savefig('myApp-04/static/sin.png')\n",
    "\n",
    "    plt.clf();\n",
    "    plt.plot(x, y2, color = 'red');\n",
    "    plt.xlabel('x');\n",
    "    plt.ylabel('Cos(x)');\n",
    "    plt.savefig('myApp-04/static/cos.png');\n",
    "    plt.close()\n",
    "    \n",
    "    myvar = 18\n",
    "    \n",
    "    return render_template('index.html', myvar = myvar)\n",
    "\n",
    "if __name__ == \"__main__\":\n",
    "    app.run()"
   ]
  },
  {
   "cell_type": "markdown",
   "metadata": {},
   "source": [
    "**Paso 3.--** Crea la página `index.html`. "
   ]
  },
  {
   "cell_type": "code",
   "execution_count": 11,
   "metadata": {},
   "outputs": [
    {
     "name": "stdout",
     "output_type": "stream",
     "text": [
      "Writing myApp-04/templates/index.html\n"
     ]
    }
   ],
   "source": [
    "%%writefile myApp-04/templates/index.html\n",
    "\n",
    "\n",
    "<!DOCTYPE html>\n",
    "<html>\n",
    "<head>\n",
    "<title>Mi primer dashboard</title>\n",
    "</head>\n",
    "<body>\n",
    "\n",
    "<h1>Este es mi primer dashboard en Flask</h1>\n",
    "\n",
    "<p>El valor de la variables es {{ myvar }}.</p>\n",
    "\n",
    "<p>Grafica de Sin(x).</p>\n",
    "<img src=\"/static/sin.png\" alt=\"Sin(x)\">\n",
    "\n",
    "<p>Grafica de Cos(x).</p>\n",
    "<img src=\"/static/cos.png\" alt=\"Sin(x)\">\n",
    "\n",
    "</body>\n",
    "</html>"
   ]
  },
  {
   "cell_type": "markdown",
   "metadata": {},
   "source": [
    "**Paso 4.--** Se ejecuta (por fuera de jupyter!). "
   ]
  },
  {
   "cell_type": "markdown",
   "metadata": {},
   "source": [
    "---"
   ]
  },
  {
   "cell_type": "markdown",
   "metadata": {},
   "source": [
    "Dashboards usando Flask\n",
    "===\n",
    "\n",
    "**Juan David Velásquez Henao**  \n",
    "jdvelasq@unal.edu.co   \n",
    "Universidad Nacional de Colombia, Sede Medellín  \n",
    "Facultad de Minas  \n",
    "Medellín, Colombia\n",
    "\n",
    "---\n",
    "\n",
    "Haga click [aquí](https://github.com/jdvelasq/Python-for-data-products/tree/master/) para acceder al repositorio online.\n",
    "\n",
    "Haga click [aquí](http://nbviewer.jupyter.org/github/jdvelasq/Python-for-data-products/tree/master/) para explorar el repositorio usando `nbviewer`. "
   ]
  }
 ],
 "metadata": {
  "kernel_info": {
   "name": "python3"
  },
  "kernelspec": {
   "display_name": "Python 3",
   "language": "python",
   "name": "python3"
  },
  "language_info": {
   "codemirror_mode": {
    "name": "ipython",
    "version": 3
   },
   "file_extension": ".py",
   "mimetype": "text/x-python",
   "name": "python",
   "nbconvert_exporter": "python",
   "pygments_lexer": "ipython3",
   "version": "3.6.4"
  },
  "nteract": {
   "version": "0.7.1"
  }
 },
 "nbformat": 4,
 "nbformat_minor": 1
}
